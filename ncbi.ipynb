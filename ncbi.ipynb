{
 "cells": [
  {
   "cell_type": "markdown",
   "metadata": {},
   "source": [
    "Dudas a juvenal.yosa@gmail.com"
   ]
  },
  {
   "cell_type": "code",
   "execution_count": 1,
   "metadata": {
    "scrolled": true
   },
   "outputs": [
    {
     "name": "stdout",
     "output_type": "stream",
     "text": [
      "Collecting package metadata (current_repodata.json): done\n",
      "Solving environment: done\n",
      "\n",
      "## Package Plan ##\n",
      "\n",
      "  environment location: /home/jyosa/anaconda3\n",
      "\n",
      "  added / updated specs:\n",
      "    - biopython\n",
      "\n",
      "\n",
      "The following packages will be downloaded:\n",
      "\n",
      "    package                    |            build\n",
      "    ---------------------------|-----------------\n",
      "    biopython-1.78             |   py37h8f50634_1         2.6 MB  conda-forge\n",
      "    ------------------------------------------------------------\n",
      "                                           Total:         2.6 MB\n",
      "\n",
      "The following NEW packages will be INSTALLED:\n",
      "\n",
      "  biopython          conda-forge/linux-64::biopython-1.78-py37h8f50634_1\n",
      "\n",
      "\n",
      "\n",
      "Downloading and Extracting Packages\n",
      "biopython-1.78       | 2.6 MB    | ##################################### | 100% \n",
      "Preparing transaction: done\n",
      "Verifying transaction: done\n",
      "Executing transaction: done\n"
     ]
    }
   ],
   "source": [
    "import sys\n",
    "!conda install --yes --prefix {sys.prefix} biopython\n"
   ]
  },
  {
   "cell_type": "markdown",
   "metadata": {},
   "source": [
    "# Maestría en Genética - Bioinformtática sesión 3 Alineamientos -\n",
    "\n",
    "BLAST son las siglas de Basic Local Alignment Search Tool. Encuentra regiones de similitud entre secuencias biológicas. Biopython proporciona Bio.Blastmodule para hacer frente a la operación NCBI BLAST. Puede ejecutar BLAST en una conexión local o en una conexión a Internet."
   ]
  },
  {
   "cell_type": "code",
   "execution_count": 2,
   "metadata": {},
   "outputs": [],
   "source": [
    "from Bio.Blast import NCBIWWW"
   ]
  },
  {
   "cell_type": "markdown",
   "metadata": {},
   "source": [
    "El módulo NCBIWW proporciona la función qblast para consultar la versión en línea de BLAST, https://blast.ncbi.nlm.nih.gov/Blast.cgi. qblasts admite todos los parámetros admitidos por la versión en línea. Para obtener ayuda sobre este módulo, use el siguiente comando y comprenda las características:"
   ]
  },
  {
   "cell_type": "code",
   "execution_count": 3,
   "metadata": {},
   "outputs": [
    {
     "name": "stdout",
     "output_type": "stream",
     "text": [
      "Help on function qblast in module Bio.Blast.NCBIWWW:\n",
      "\n",
      "qblast(program, database, sequence, url_base='https://blast.ncbi.nlm.nih.gov/Blast.cgi', auto_format=None, composition_based_statistics=None, db_genetic_code=None, endpoints=None, entrez_query='(none)', expect=10.0, filter=None, gapcosts=None, genetic_code=None, hitlist_size=50, i_thresh=None, layout=None, lcase_mask=None, matrix_name=None, nucl_penalty=None, nucl_reward=None, other_advanced=None, perc_ident=None, phi_pattern=None, query_file=None, query_believe_defline=None, query_from=None, query_to=None, searchsp_eff=None, service=None, threshold=None, ungapped_alignment=None, word_size=None, short_query=None, alignments=500, alignment_view=None, descriptions=500, entrez_links_new_window=None, expect_low=None, expect_high=None, format_entrez_query=None, format_object=None, format_type='XML', ncbi_gi=None, results_file=None, show_overview=None, megablast=None, template_type=None, template_length=None)\n",
      "    BLAST search using NCBI's QBLAST server or a cloud service provider.\n",
      "    \n",
      "    Supports all parameters of the old qblast API for Put and Get.\n",
      "    \n",
      "    Please note that NCBI uses the new Common URL API for BLAST searches\n",
      "    on the internet (http://ncbi.github.io/blast-cloud/dev/api.html). Thus,\n",
      "    some of the parameters used by this function are not (or are no longer)\n",
      "    officially supported by NCBI. Although they are still functioning, this\n",
      "    may change in the future.\n",
      "    \n",
      "    The Common URL API (http://ncbi.github.io/blast-cloud/dev/api.html) allows\n",
      "    doing BLAST searches on cloud servers. To use this feature, please set\n",
      "    ``url_base='http://host.my.cloud.service.provider.com/cgi-bin/blast.cgi'``\n",
      "    and ``format_object='Alignment'``. For more details, please see\n",
      "    https://blast.ncbi.nlm.nih.gov/Blast.cgi?PAGE_TYPE=BlastDocs&DOC_TYPE=CloudBlast\n",
      "    \n",
      "    Some useful parameters:\n",
      "    \n",
      "     - program        blastn, blastp, blastx, tblastn, or tblastx (lower case)\n",
      "     - database       Which database to search against (e.g. \"nr\").\n",
      "     - sequence       The sequence to search.\n",
      "     - ncbi_gi        TRUE/FALSE whether to give 'gi' identifier.\n",
      "     - descriptions   Number of descriptions to show.  Def 500.\n",
      "     - alignments     Number of alignments to show.  Def 500.\n",
      "     - expect         An expect value cutoff.  Def 10.0.\n",
      "     - matrix_name    Specify an alt. matrix (PAM30, PAM70, BLOSUM80, BLOSUM45).\n",
      "     - filter         \"none\" turns off filtering.  Default no filtering\n",
      "     - format_type    \"HTML\", \"Text\", \"ASN.1\", or \"XML\".  Def. \"XML\".\n",
      "     - entrez_query   Entrez query to limit Blast search\n",
      "     - hitlist_size   Number of hits to return. Default 50\n",
      "     - megablast      TRUE/FALSE whether to use MEga BLAST algorithm (blastn only)\n",
      "     - short_query    TRUE/FALSE whether to adjust the search parameters for a\n",
      "                      short query sequence. Note that this will override\n",
      "                      manually set parameters like word size and e value. Turns\n",
      "                      off when sequence length is > 30 residues. Default: None.\n",
      "     - service        plain, psi, phi, rpsblast, megablast (lower case)\n",
      "    \n",
      "    This function does no checking of the validity of the parameters\n",
      "    and passes the values to the server as is.  More help is available at:\n",
      "    https://ncbi.github.io/blast-cloud/dev/api.html\n",
      "\n"
     ]
    }
   ],
   "source": [
    "help(NCBIWWW.qblast)"
   ]
  },
  {
   "cell_type": "markdown",
   "metadata": {},
   "source": [
    "Por lo general, los argumentos de la función qblast son básicamente análogos a diferentes parámetros que puede configurar en la página web BLAST. Esto hace que la función qblast sea fácil de entender y reduce la curva de aprendizaje para usarla."
   ]
  },
  {
   "cell_type": "markdown",
   "metadata": {},
   "source": [
    "## Conexión y búsqueda"
   ]
  },
  {
   "cell_type": "markdown",
   "metadata": {},
   "source": [
    "Para comprender el proceso de conexión y búsqueda de la versión en línea de BLAST, hagamos una búsqueda de secuencia simple (disponible en nuestro archivo de secuencia local) contra el servidor BLAST en línea a través de Biopython.\n",
    "\n",
    "**Paso 1**: Cree un archivo llamado blast_example, obtenga el directorio Biopyth y proporcione la siguiente información de secuencia como entrada:\n",
    "\n",
    "\n",
    "Ejemplo de una secuencia única en formato FASTA / Pearson:\n",
    "\n",
    ">sequence A\n",
    "ggtaagtcctctagtacaaacacccccaatattgtgatataattaaaattatattcatattctgttgccagaaaaaacacttttaggctatattagagccatcttctttgaagcgttgtc\n",
    ">sequence B\n",
    "ggtaagtcctctagtacaaacacccccaatattgtgatataattaaaattatattcatattctgttgccagaaaaaacacttttaggctatattagagccatcttctttgaagcgttgtc\n",
    "\n",
    "**Paso 2**: Importe el módulo NCBIWWW."
   ]
  },
  {
   "cell_type": "code",
   "execution_count": 1,
   "metadata": {},
   "outputs": [],
   "source": [
    "from Bio.Blast import NCBIWWW"
   ]
  },
  {
   "cell_type": "markdown",
   "metadata": {},
   "source": [
    "**Paso 3**: Abra el archivo de secuencia, blast_example.fasta usando el módulo Python IO."
   ]
  },
  {
   "cell_type": "code",
   "execution_count": 5,
   "metadata": {},
   "outputs": [
    {
     "name": "stdout",
     "output_type": "stream",
     "text": [
      "Example of a single sequence in FASTA/Pearson format:\n",
      "\n",
      ">sequence A\n",
      "ggtaagtcctctagtacaaacacccccaatattgtgatataattaaaattatattcatattctgttgccagaaaaaacacttttaggctatattagagccatcttctttgaagcgttgtc\n",
      "\n",
      "\n",
      ">sequence B\n",
      "ggtaagtcctctagtacaaacacccccaatattgtgatataattaaaattatattcatattctgttgccagaaaaaacacttttaggctatattagagccatcttctttgaagcgttgtc\n"
     ]
    },
    {
     "data": {
      "text/plain": [
       "'Example of a single sequence in FASTA/Pearson format:\\n\\n>sequence A\\nggtaagtcctctagtacaaacacccccaatattgtgatataattaaaattatattcatattctgttgccagaaaaaacacttttaggctatattagagccatcttctttgaagcgttgtc\\n\\n\\n>sequence B\\nggtaagtcctctagtacaaacacccccaatattgtgatataattaaaattatattcatattctgttgccagaaaaaacacttttaggctatattagagccatcttctttgaagcgttgtc'"
      ]
     },
     "execution_count": 5,
     "metadata": {},
     "output_type": "execute_result"
    }
   ],
   "source": [
    "sequence_data = open(\"blast_example.fasta\").read()\n",
    "print(sequence_data)\n",
    "sequence_data"
   ]
  },
  {
   "cell_type": "markdown",
   "metadata": {},
   "source": [
    "**Paso 4**: Ahora, llame a la función qblast pasando datos de secuencia como parámetro principal. El otro parámetro representa la base de datos (nt) y el programa interno (blastn)."
   ]
  },
  {
   "cell_type": "code",
   "execution_count": 6,
   "metadata": {},
   "outputs": [
    {
     "data": {
      "text/plain": [
       "<_io.StringIO at 0x7fdfad2b3558>"
      ]
     },
     "execution_count": 6,
     "metadata": {},
     "output_type": "execute_result"
    }
   ],
   "source": [
    "result_handle = NCBIWWW.qblast(\"blastn\", \"nt\", sequence_data)\n",
    "result_handle"
   ]
  },
  {
   "cell_type": "markdown",
   "metadata": {},
   "source": [
    "blast_results contiene el resultado de nuestra búsqueda. Se puede guardar en un archivo para su uso posterior y también, analizar para obtener los detalles. Aprenderemos cómo hacerlo en la próxima sección.\n",
    "\n",
    "**Paso 5**: La misma funcionalidad se puede hacer usando Seqobject también en lugar de usar todo el archivo fasta como se muestra a continuación:"
   ]
  },
  {
   "cell_type": "code",
   "execution_count": 9,
   "metadata": {},
   "outputs": [
    {
     "name": "stdout",
     "output_type": "stream",
     "text": [
      "sequence\n",
      "ggtaagtcctctagtacaaacacccccaatattgtgatataattaaaattatattcatattctgttgccagaaaaaacacttttaggctatattagagccatcttctttgaagcgttgtc\n"
     ]
    }
   ],
   "source": [
    "from Bio import SeqIO\n",
    "seq_record = next(SeqIO.parse(open('blast_example.fasta'),'fasta'))\n",
    "print(seq_record.id)\n",
    "print(seq_record.seq)"
   ]
  },
  {
   "cell_type": "markdown",
   "metadata": {},
   "source": [
    "Ahora, llame a la función qblast pasando Seqobject, record.seq como parámetro principal."
   ]
  },
  {
   "cell_type": "code",
   "execution_count": 10,
   "metadata": {},
   "outputs": [
    {
     "name": "stdout",
     "output_type": "stream",
     "text": [
      "<_io.StringIO object at 0x7fdfad2bb558>\n"
     ]
    }
   ],
   "source": [
    "result_handle = NCBIWWW.qblast(\"blastn\", \"nt\", seq_record.seq)\n",
    "print(result_handle)"
   ]
  },
  {
   "cell_type": "markdown",
   "metadata": {},
   "source": [
    "BLAST asignará un identificador para su secuencia automáticamente.\n",
    "\n",
    "**Paso 6**: result_handleobject tendrá el resultado completo y se puede guardar en un archivo para su uso posterior.\n"
   ]
  },
  {
   "cell_type": "code",
   "execution_count": 11,
   "metadata": {},
   "outputs": [],
   "source": [
    "with open('results.xml', 'w') as save_file:\n",
    "    blast_results = result_handle.read()\n",
    "    save_file.write(blast_results)"
   ]
  },
  {
   "cell_type": "markdown",
   "metadata": {},
   "source": [
    "We will see how to parse the result file in the later section."
   ]
  },
  {
   "cell_type": "markdown",
   "metadata": {},
   "source": [
    "## Parsing BLAST Result\n",
    "\n",
    "Generalmente, la salida BLAST se analiza como formato XML utilizando el módulo NCBIXML. Para hacer esto, necesitamos importar el siguiente módulo:"
   ]
  },
  {
   "cell_type": "code",
   "execution_count": 12,
   "metadata": {},
   "outputs": [],
   "source": [
    "from Bio.Blast import NCBIXML"
   ]
  },
  {
   "cell_type": "markdown",
   "metadata": {},
   "source": [
    "Ahora, abra el archivo directamente usando el método de apertura de Python y use el método de análisis NCBIXML como se indica a continuación:"
   ]
  },
  {
   "cell_type": "code",
   "execution_count": 30,
   "metadata": {},
   "outputs": [
    {
     "name": "stdout",
     "output_type": "stream",
     "text": [
      "\n",
      "\n",
      "****Alignment****\n",
      "sequence: gi|1853088208|gb|CP054431.1| Chlamydia trachomatis strain CH2_mutant_L2/434/Bu(i) plasmid unnamed\n",
      "length: 7676\n",
      "e value: 8.11089e-53\n",
      "GGTAAGTCCTCTAGTACAAACACCCCCAATATTGTGATATAATTAAAATTATATTCATATTCTGTTGCCAGAAAA...\n",
      "Score 240 (217 bits), expectation 8.1e-53, alignment length 120\n",
      "Query:       1 GGTAAGTCCTCTAGTACAAACACCCCCAATATTGTGATATAATTA...GTC 120\n",
      "               |||||||||||||||||||||||||||||||||||||||||||||...|||\n",
      "Sbjct:    6554 GGTAAGTCCTCTAGTACAAACACCCCCAATATTGTGATATAATTA...GTC 6435\n",
      "****Alignment****\n",
      "sequence: gi|1853087206|gb|CP054433.1| Chlamydia trachomatis strain CH1_mutant_L2/434/Bu(i) plasmid unnamed\n",
      "length: 7676\n",
      "e value: 8.11089e-53\n",
      "GGTAAGTCCTCTAGTACAAACACCCCCAATATTGTGATATAATTAAAATTATATTCATATTCTGTTGCCAGAAAA...\n",
      "Score 240 (217 bits), expectation 8.1e-53, alignment length 120\n",
      "Query:       1 GGTAAGTCCTCTAGTACAAACACCCCCAATATTGTGATATAATTA...GTC 120\n",
      "               |||||||||||||||||||||||||||||||||||||||||||||...|||\n",
      "Sbjct:    4350 GGTAAGTCCTCTAGTACAAACACCCCCAATATTGTGATATAATTA...GTC 4231\n",
      "****Alignment****\n",
      "sequence: gi|1853086301|gb|CP054429.1| Chlamydia trachomatis strain CH3_mutant_L2/434/Bu(i) plasmid unnamed\n",
      "length: 7676\n",
      "e value: 8.11089e-53\n",
      "GGTAAGTCCTCTAGTACAAACACCCCCAATATTGTGATATAATTAAAATTATATTCATATTCTGTTGCCAGAAAA...\n",
      "Score 240 (217 bits), expectation 8.1e-53, alignment length 120\n",
      "Query:       1 GGTAAGTCCTCTAGTACAAACACCCCCAATATTGTGATATAATTA...GTC 120\n",
      "               |||||||||||||||||||||||||||||||||||||||||||||...|||\n",
      "Sbjct:    4350 GGTAAGTCCTCTAGTACAAACACCCCCAATATTGTGATATAATTA...GTC 4231\n",
      "****Alignment****\n",
      "sequence: gi|1853085398|gb|CP054427.1| Chlamydia trachomatis strain CH5_mutant_L2/434/Bu(i) plasmid unnamed\n",
      "length: 7676\n",
      "e value: 8.11089e-53\n",
      "GGTAAGTCCTCTAGTACAAACACCCCCAATATTGTGATATAATTAAAATTATATTCATATTCTGTTGCCAGAAAA...\n",
      "Score 240 (217 bits), expectation 8.1e-53, alignment length 120\n",
      "Query:       1 GGTAAGTCCTCTAGTACAAACACCCCCAATATTGTGATATAATTA...GTC 120\n",
      "               |||||||||||||||||||||||||||||||||||||||||||||...|||\n",
      "Sbjct:    1721 GGTAAGTCCTCTAGTACAAACACCCCCAATATTGTGATATAATTA...GTC 1840\n",
      "****Alignment****\n",
      "sequence: gi|380252486|emb|HE603228.1| Chlamydia trachomatis L3/404/LN plasmid pL3404 complete sequence\n",
      "length: 7415\n",
      "e value: 8.11089e-53\n",
      "GGTAAGTCCTCTAGTACAAACACCCCCAATATTGTGATATAATTAAAATTATATTCATATTCTGTTGCCAGAAAA...\n",
      "Score 240 (217 bits), expectation 8.1e-53, alignment length 120\n",
      "Query:       1 GGTAAGTCCTCTAGTACAAACACCCCCAATATTGTGATATAATTA...GTC 120\n",
      "               |||||||||||||||||||||||||||||||||||||||||||||...|||\n",
      "Sbjct:     961 GGTAAGTCCTCTAGTACAAACACCCCCAATATTGTGATATAATTA...GTC 1080\n",
      "****Alignment****\n",
      "sequence: gi|380251597|emb|HE603227.1| Chlamydia trachomatis L2b/UCH-2 plasmid pL2bUCH2 complete sequence\n",
      "length: 7473\n",
      "e value: 8.11089e-53\n",
      "GGTAAGTCCTCTAGTACAAACACCCCCAATATTGTGATATAATTAAAATTATATTCATATTCTGTTGCCAGAAAA...\n",
      "Score 240 (217 bits), expectation 8.1e-53, alignment length 120\n",
      "Query:       1 GGTAAGTCCTCTAGTACAAACACCCCCAATATTGTGATATAATTA...GTC 120\n",
      "               |||||||||||||||||||||||||||||||||||||||||||||...|||\n",
      "Sbjct:    1019 GGTAAGTCCTCTAGTACAAACACCCCCAATATTGTGATATAATTA...GTC 1138\n",
      "****Alignment****\n",
      "sequence: gi|380251588|emb|HE603226.1| Chlamydia trachomatis L2b/LST plasmid pL2bLST complete sequence\n",
      "length: 7500\n",
      "e value: 8.11089e-53\n",
      "GGTAAGTCCTCTAGTACAAACACCCCCAATATTGTGATATAATTAAAATTATATTCATATTCTGTTGCCAGAAAA...\n",
      "Score 240 (217 bits), expectation 8.1e-53, alignment length 120\n",
      "Query:       1 GGTAAGTCCTCTAGTACAAACACCCCCAATATTGTGATATAATTA...GTC 120\n",
      "               |||||||||||||||||||||||||||||||||||||||||||||...|||\n",
      "Sbjct:    1046 GGTAAGTCCTCTAGTACAAACACCCCCAATATTGTGATATAATTA...GTC 1165\n",
      "****Alignment****\n",
      "sequence: gi|380251534|emb|HE603220.1| Chlamydia trachomatis L1/224 plasmid pL1224 complete sequence\n",
      "length: 7500\n",
      "e value: 8.11089e-53\n",
      "GGTAAGTCCTCTAGTACAAACACCCCCAATATTGTGATATAATTAAAATTATATTCATATTCTGTTGCCAGAAAA...\n",
      "Score 240 (217 bits), expectation 8.1e-53, alignment length 120\n",
      "Query:       1 GGTAAGTCCTCTAGTACAAACACCCCCAATATTGTGATATAATTA...GTC 120\n",
      "               |||||||||||||||||||||||||||||||||||||||||||||...|||\n",
      "Sbjct:    1046 GGTAAGTCCTCTAGTACAAACACCCCCAATATTGTGATATAATTA...GTC 1165\n",
      "****Alignment****\n",
      "sequence: gi|380251525|emb|HE603219.1| Chlamydia trachomatis L1/1322/p2 plasmid pL11322 complete sequence\n",
      "length: 7500\n",
      "e value: 8.11089e-53\n",
      "GGTAAGTCCTCTAGTACAAACACCCCCAATATTGTGATATAATTAAAATTATATTCATATTCTGTTGCCAGAAAA...\n",
      "Score 240 (217 bits), expectation 8.1e-53, alignment length 120\n",
      "Query:       1 GGTAAGTCCTCTAGTACAAACACCCCCAATATTGTGATATAATTA...GTC 120\n",
      "               |||||||||||||||||||||||||||||||||||||||||||||...|||\n",
      "Sbjct:    1046 GGTAAGTCCTCTAGTACAAACACCCCCAATATTGTGATATAATTA...GTC 1165\n",
      "****Alignment****\n",
      "sequence: gi|380251516|emb|HE603218.1| Chlamydia trachomatis L1/115 plasmid pL1115 complete sequence\n",
      "length: 7500\n",
      "e value: 8.11089e-53\n",
      "GGTAAGTCCTCTAGTACAAACACCCCCAATATTGTGATATAATTAAAATTATATTCATATTCTGTTGCCAGAAAA...\n",
      "Score 240 (217 bits), expectation 8.1e-53, alignment length 120\n",
      "Query:       1 GGTAAGTCCTCTAGTACAAACACCCCCAATATTGTGATATAATTA...GTC 120\n",
      "               |||||||||||||||||||||||||||||||||||||||||||||...|||\n",
      "Sbjct:    1046 GGTAAGTCCTCTAGTACAAACACCCCCAATATTGTGATATAATTA...GTC 1165\n",
      "****Alignment****\n",
      "sequence: gi|380251471|emb|HE603213.1| Chlamydia trachomatis L2b/Ams1 plasmid pAms1 complete sequence >gi|380251480|emb|HE603214.1| Chlamydia trachomatis L2b/Ams2 plasmid pAms2 complete sequence >gi|380251489|emb|HE603215.1| Chlamydia trachomatis L2b/Ams3 plasmid pAms3 complete sequence >gi|380251498|emb|HE603216.1| Chlamydia trachomatis L2b/Ams4 plasmid pAms4 complete sequence >gi|380251507|emb|HE603217.1| Chlamydia trachomatis L2b/Ams5 plasmid pAms5 complete sequence >gi|380251543|emb|HE603221.1| Chlamydia trachomatis L2b/795 plasmid pL2b795 complete sequence >gi|380251552|emb|HE603222.1| Chlamydia trachomatis L2b/8200/07 plasmid pL2b820007 complete sequence >gi|380251561|emb|HE603223.1| Chlamydia trachomatis L2b/Canada1 plasmid pL2bCan1 complete sequence >gi|380251570|emb|HE603224.1| Chlamydia trachomatis L2b/Canada2 plasmid pL2bCan2 complete sequence >gi|380251579|emb|HE603225.1| Chlamydia trachomatis L2b/CV204 plasmid pL2bCV204 complete sequence >gi|806978425|gb|CP009926.1| Chlamydia trachomatis strain L2b/CS784/08 plasmid, complete sequence >gi|806979337|gb|CP009924.1| Chlamydia trachomatis strain L2b/CS19/08 plasmid, complete sequence\n",
      "length: 7500\n",
      "e value: 8.11089e-53\n",
      "GGTAAGTCCTCTAGTACAAACACCCCCAATATTGTGATATAATTAAAATTATATTCATATTCTGTTGCCAGAAAA...\n",
      "Score 240 (217 bits), expectation 8.1e-53, alignment length 120\n",
      "Query:       1 GGTAAGTCCTCTAGTACAAACACCCCCAATATTGTGATATAATTA...GTC 120\n",
      "               |||||||||||||||||||||||||||||||||||||||||||||...|||\n",
      "Sbjct:    1046 GGTAAGTCCTCTAGTACAAACACCCCCAATATTGTGATATAATTA...GTC 1165\n",
      "****Alignment****\n",
      "sequence: gi|194680626|emb|X06707.3| Chlamydia trachomatis cryptic plasmid pLGV440\n",
      "length: 7500\n",
      "e value: 8.11089e-53\n",
      "GGTAAGTCCTCTAGTACAAACACCCCCAATATTGTGATATAATTAAAATTATATTCATATTCTGTTGCCAGAAAA...\n",
      "Score 240 (217 bits), expectation 8.1e-53, alignment length 120\n",
      "Query:       1 GGTAAGTCCTCTAGTACAAACACCCCCAATATTGTGATATAATTA...GTC 120\n",
      "               |||||||||||||||||||||||||||||||||||||||||||||...|||\n",
      "Sbjct:    1046 GGTAAGTCCTCTAGTACAAACACCCCCAATATTGTGATATAATTA...GTC 1165\n",
      "****Alignment****\n",
      "sequence: gi|165931721|emb|AM886279.1| Chlamydia trachomatis pUCH-1 plasmid\n",
      "length: 7500\n",
      "e value: 8.11089e-53\n",
      "GGTAAGTCCTCTAGTACAAACACCCCCAATATTGTGATATAATTAAAATTATATTCATATTCTGTTGCCAGAAAA...\n",
      "Score 240 (217 bits), expectation 8.1e-53, alignment length 120\n",
      "Query:       1 GGTAAGTCCTCTAGTACAAACACCCCCAATATTGTGATATAATTA...GTC 120\n",
      "               |||||||||||||||||||||||||||||||||||||||||||||...|||\n",
      "Sbjct:    2127 GGTAAGTCCTCTAGTACAAACACCCCCAATATTGTGATATAATTA...GTC 2008\n",
      "****Alignment****\n",
      "sequence: gi|165931711|emb|AM886278.1| Chlamydia trachomatis pL2 plasmid >gi|478751958|gb|CP003966.1| Chlamydia trachomatis L2/434/Bu(f) plasmid pL2/434/Bu(f), complete sequence >gi|478752900|gb|CP003964.1| Chlamydia trachomatis L2/434/Bu(i) plasmid pL2/434/Bu(i), complete sequence\n",
      "length: 7499\n",
      "e value: 8.11089e-53\n",
      "GGTAAGTCCTCTAGTACAAACACCCCCAATATTGTGATATAATTAAAATTATATTCATATTCTGTTGCCAGAAAA...\n",
      "Score 240 (217 bits), expectation 8.1e-53, alignment length 120\n",
      "Query:       1 GGTAAGTCCTCTAGTACAAACACCCCCAATATTGTGATATAATTA...GTC 120\n",
      "               |||||||||||||||||||||||||||||||||||||||||||||...|||\n",
      "Sbjct:    5246 GGTAAGTCCTCTAGTACAAACACCCCCAATATTGTGATATAATTA...GTC 5127\n",
      "****Alignment****\n",
      "sequence: gi|158322049|gb|EU180727.1| Chlamydia trachomatis plasmid pCT clone C10-1 ORF7 and ORF8 genes, partial cds >gi|158322052|gb|EU180728.1| Chlamydia trachomatis plasmid pCT clone C10-10 ORF7 and ORF8 genes, partial cds >gi|158322055|gb|EU180729.1| Chlamydia trachomatis plasmid pCT clone C10-3 ORF7 and ORF8 genes, partial cds >gi|158322058|gb|EU180730.1| Chlamydia trachomatis plasmid pCT clone C10-4 ORF7 and ORF8 genes, partial cds >gi|158322061|gb|EU180731.1| Chlamydia trachomatis plasmid pCT clone C10-7 ORF7 and ORF8 genes, partial cds >gi|158322064|gb|EU180732.1| Chlamydia trachomatis plasmid pCT clone C2-3 ORF7 and ORF8 genes, partial cds >gi|158322067|gb|EU180733.1| Chlamydia trachomatis plasmid pCT clone C2-6 ORF7 and ORF8 genes, partial cds >gi|158322070|gb|EU180734.1| Chlamydia trachomatis plasmid pCT clone C4-1 ORF7 and ORF8 genes, partial cds >gi|158322073|gb|EU180735.1| Chlamydia trachomatis plasmid pCT clone C4-4 ORF7 and ORF8 genes, partial cds >gi|158322076|gb|EU180736.1| Chlamydia trachomatis plasmid pCT clone C4-5 ORF7 and ORF8 genes, partial cds >gi|158322079|gb|EU180737.1| Chlamydia trachomatis plasmid pCT clone C4-6 ORF7 and ORF8 genes, partial cds >gi|158322082|gb|EU180738.1| Chlamydia trachomatis plasmid pCT clone C9-12 ORF7 and ORF8 genes, partial cds >gi|158322085|gb|EU180739.1| Chlamydia trachomatis plasmid pCT clone C9-14 ORF7 and ORF8 genes, partial cds >gi|158322088|gb|EU180740.1| Chlamydia trachomatis plasmid pCT clone C9-15 ORF7 and ORF8 genes, partial cds >gi|158322091|gb|EU180741.1| Chlamydia trachomatis plasmid pCT clone C9-3 ORF7 and ORF8 genes, partial cds >gi|158322094|gb|EU180742.1| Chlamydia trachomatis plasmid pCT clone C9-7 ORF7 and ORF8 genes, partial cds >gi|158322097|gb|EU180743.1| Chlamydia trachomatis plasmid pCT clone C9-8 ORF7 and ORF8 genes, partial cds\n",
      "length: 664\n",
      "e value: 8.11089e-53\n",
      "GGTAAGTCCTCTAGTACAAACACCCCCAATATTGTGATATAATTAAAATTATATTCATATTCTGTTGCCAGAAAA...\n",
      "Score 240 (217 bits), expectation 8.1e-53, alignment length 120\n",
      "Query:       1 GGTAAGTCCTCTAGTACAAACACCCCCAATATTGTGATATAATTA...GTC 120\n",
      "               |||||||||||||||||||||||||||||||||||||||||||||...|||\n",
      "Sbjct:     165 GGTAAGTCCTCTAGTACAAACACCCCCAATATTGTGATATAATTA...GTC 284\n",
      "****Alignment****\n",
      "sequence: gi|40730|emb|X07547.1| C. trachomatis plasmid DNA for growth within mammalian cells\n",
      "length: 7499\n",
      "e value: 8.11089e-53\n",
      "GGTAAGTCCTCTAGTACAAACACCCCCAATATTGTGATATAATTAAAATTATATTCATATTCTGTTGCCAGAAAA...\n",
      "Score 240 (217 bits), expectation 8.1e-53, alignment length 120\n",
      "Query:       1 GGTAAGTCCTCTAGTACAAACACCCCCAATATTGTGATATAATTA...GTC 120\n",
      "               |||||||||||||||||||||||||||||||||||||||||||||...|||\n",
      "Sbjct:       1 GGTAAGTCCTCTAGTACAAACACCCCCAATATTGTGATATAATTA...GTC 120\n",
      "****Alignment****\n",
      "sequence: gi|1104541593|gb|CP018053.1| Chlamydia trachomatis strain QH111L plasmid pQH111L, complete sequence\n",
      "length: 7503\n",
      "e value: 4.20154e-50\n",
      "GGTAAGTCCTCTAGTACAAACACCCCCAATATTGTGATATAATTAAAATTATATTCATATTCTGTTGCCAGAAAA...\n",
      "Score 230 (208 bits), expectation 4.2e-50, alignment length 120\n",
      "Query:       1 GGTAAGTCCTCTAGTACAAACACCCCCAATATTGTGATATAATTA...GTC 120\n",
      "               ||||||||||||||||||||||||| |||||||||||||||||||...|||\n",
      "Sbjct:    4604 GGTAAGTCCTCTAGTACAAACACCCACAATATTGTGATATAATTA...GTC 4485\n",
      "****Alignment****\n",
      "sequence: gi|1104541593|gb|CP018053.1| Chlamydia trachomatis strain QH111L plasmid pQH111L, complete sequence\n",
      "length: 7503\n",
      "e value: 4.20154e-50\n",
      "GGTAAGTCCTCTAGTACAAACACCCCCAATATTGTGATATAATTAAAATTATATTCATATTCTGTTGCCAGAAAA...\n",
      "Score 230 (208 bits), expectation 4.2e-50, alignment length 120\n",
      "Query:       1 GGTAAGTCCTCTAGTACAAACACCCCCAATATTGTGATATAATTA...GTC 120\n",
      "               ||||||||||||||||||||||||| |||||||||||||||||||...|||\n",
      "Sbjct:    4604 GGTAAGTCCTCTAGTACAAACACCCACAATATTGTGATATAATTA...GTC 4485\n",
      "****Alignment****\n",
      "sequence: gi|1067106305|gb|CP016425.1| Chlamydia trachomatis strain SB013112 plasmid unnamed1, complete sequence\n",
      "length: 7504\n",
      "e value: 4.20154e-50\n",
      "GGTAAGTCCTCTAGTACAAACACCCCCAATATTGTGATATAATTAAAATTATATTCATATTCTGTTGCCAGAAAA...\n",
      "Score 230 (208 bits), expectation 4.2e-50, alignment length 120\n",
      "Query:       1 GGTAAGTCCTCTAGTACAAACACCCCCAATATTGTGATATAATTA...GTC 120\n",
      "               ||||||||||||||||||||||||| |||||||||||||||||||...|||\n",
      "Sbjct:    1044 GGTAAGTCCTCTAGTACAAACACCCACAATATTGTGATATAATTA...GTC 1163\n",
      "****Alignment****\n",
      "sequence: gi|1067104939|gb|CP016423.1| Chlamydia trachomatis strain SB008107 plasmid unnamed1, complete sequence\n",
      "length: 7506\n",
      "e value: 4.20154e-50\n",
      "GGTAAGTCCTCTAGTACAAACACCCCCAATATTGTGATATAATTAAAATTATATTCATATTCTGTTGCCAGAAAA...\n",
      "Score 230 (208 bits), expectation 4.2e-50, alignment length 120\n",
      "Query:       1 GGTAAGTCCTCTAGTACAAACACCCCCAATATTGTGATATAATTA...GTC 120\n",
      "               ||||||||||||||||||||||||| |||||||||||||||||||...|||\n",
      "Sbjct:    1046 GGTAAGTCCTCTAGTACAAACACCCACAATATTGTGATATAATTA...GTC 1165\n",
      "****Alignment****\n",
      "sequence: gi|1067103422|gb|CP016421.1| Chlamydia trachomatis strain SB006930 plasmid unnamed1, complete sequence\n",
      "length: 7506\n",
      "e value: 4.20154e-50\n",
      "GGTAAGTCCTCTAGTACAAACACCCCCAATATTGTGATATAATTAAAATTATATTCATATTCTGTTGCCAGAAAA...\n",
      "Score 230 (208 bits), expectation 4.2e-50, alignment length 120\n",
      "Query:       1 GGTAAGTCCTCTAGTACAAACACCCCCAATATTGTGATATAATTA...GTC 120\n",
      "               ||||||||||||||||||||||||| |||||||||||||||||||...|||\n",
      "Sbjct:    1046 GGTAAGTCCTCTAGTACAAACACCCACAATATTGTGATATAATTA...GTC 1165\n",
      "****Alignment****\n",
      "sequence: gi|1067102362|gb|CP016419.1| Chlamydia trachomatis strain SB002739 plasmid unnamed1, complete sequence\n",
      "length: 7506\n",
      "e value: 4.20154e-50\n",
      "GGTAAGTCCTCTAGTACAAACACCCCCAATATTGTGATATAATTAAAATTATATTCATATTCTGTTGCCAGAAAA...\n",
      "Score 230 (208 bits), expectation 4.2e-50, alignment length 120\n",
      "Query:       1 GGTAAGTCCTCTAGTACAAACACCCCCAATATTGTGATATAATTA...GTC 120\n",
      "               ||||||||||||||||||||||||| |||||||||||||||||||...|||\n",
      "Sbjct:    1046 GGTAAGTCCTCTAGTACAAACACCCACAATATTGTGATATAATTA...GTC 1165\n",
      "****Alignment****\n",
      "sequence: gi|380252690|emb|HE603231.1| Chlamydia trachomatis D/SotonD6 plasmid pSotonD6 complete sequence >gi|380252753|emb|HE603238.1| Chlamydia trachomatis K/SotonK1 plasmid pSotonK1 complete sequence >gi|899745353|gb|CP007132.1| Chlamydia trachomatis D/CS637/11 plasmid unnamed, complete sequence\n",
      "length: 7493\n",
      "e value: 4.20154e-50\n",
      "GGTAAGTCCTCTAGTACAAACACCCCCAATATTGTGATATAATTAAAATTATATTCATATTCTGTTGCCAGAAAA...\n",
      "Score 230 (208 bits), expectation 4.2e-50, alignment length 120\n",
      "Query:       1 GGTAAGTCCTCTAGTACAAACACCCCCAATATTGTGATATAATTA...GTC 120\n",
      "               ||||||||||||||||||||||||| |||||||||||||||||||...|||\n",
      "Sbjct:    1046 GGTAAGTCCTCTAGTACAAACACCCACAATATTGTGATATAATTA...GTC 1165\n",
      "****Alignment****\n",
      "sequence: gi|380252726|emb|HE603235.1| Chlamydia trachomatis G/SotonG1 plasmid pSotonG1 complete sequence >gi|899748098|gb|CP010572.1| Chlamydia trachomatis strain Ia/CS190/96 plasmid, complete sequence\n",
      "length: 7471\n",
      "e value: 4.20154e-50\n",
      "GGTAAGTCCTCTAGTACAAACACCCCCAATATTGTGATATAATTAAAATTATATTCATATTCTGTTGCCAGAAAA...\n",
      "Score 230 (208 bits), expectation 4.2e-50, alignment length 120\n",
      "Query:       1 GGTAAGTCCTCTAGTACAAACACCCCCAATATTGTGATATAATTA...GTC 120\n",
      "               ||||||||||||||||||||||||| |||||||||||||||||||...|||\n",
      "Sbjct:    1024 GGTAAGTCCTCTAGTACAAACACCCACAATATTGTGATATAATTA...GTC 1143\n",
      "****Alignment****\n",
      "sequence: gi|380252681|emb|HE603230.1| Chlamydia trachomatis D/SotonD5 plasmid pSotonD5 complete sequence\n",
      "length: 7492\n",
      "e value: 4.20154e-50\n",
      "GGTAAGTCCTCTAGTACAAACACCCCCAATATTGTGATATAATTAAAATTATATTCATATTCTGTTGCCAGAAAA...\n",
      "Score 230 (208 bits), expectation 4.2e-50, alignment length 120\n",
      "Query:       1 GGTAAGTCCTCTAGTACAAACACCCCCAATATTGTGATATAATTA...GTC 120\n",
      "               ||||||||||||||||||||||||| |||||||||||||||||||...|||\n",
      "Sbjct:    1045 GGTAAGTCCTCTAGTACAAACACCCACAATATTGTGATATAATTA...GTC 1164\n",
      "****Alignment****\n",
      "sequence: gi|317415982|emb|FM865436.1| Chlamydia trachomatis plasmid pCTR, strain A2497, serovar A\n",
      "length: 7480\n",
      "e value: 4.20154e-50\n",
      "GGTAAGTCCTCTAGTACAAACACCCCCAATATTGTGATATAATTAAAATTATATTCATATTCTGTTGCCAGAAAA...\n",
      "Score 230 (208 bits), expectation 4.2e-50, alignment length 120\n",
      "Query:       1 GGTAAGTCCTCTAGTACAAACACCCCCAATATTGTGATATAATTA...GTC 120\n",
      "               ||||||||||||||||||||||||| |||||||||||||||||||...|||\n",
      "Sbjct:    1024 GGTAAGTCCTCTAGTACAAACACCCACAATATTGTGATATAATTA...GTC 1143\n",
      "****Alignment****\n",
      "sequence: gi|228007403|emb|FM865438.1| Chlamydia trachomatis plasmid pJALI, strain Jali20, serovar B\n",
      "length: 7506\n",
      "e value: 4.20154e-50\n",
      "GGTAAGTCCTCTAGTACAAACACCCCCAATATTGTGATATAATTAAAATTATATTCATATTCTGTTGCCAGAAAA...\n",
      "Score 230 (208 bits), expectation 4.2e-50, alignment length 120\n",
      "Query:       1 GGTAAGTCCTCTAGTACAAACACCCCCAATATTGTGATATAATTA...GTC 120\n",
      "               ||||||||||||||||||||||||| |||||||||||||||||||...|||\n",
      "Sbjct:    1046 GGTAAGTCCTCTAGTACAAACACCCACAATATTGTGATATAATTA...GTC 1165\n",
      "****Alignment****\n",
      "sequence: gi|228007394|emb|FM865437.1| Chlamydia trachomatis plasmid pCTB, strain B/TZ1A828/OT, serovar B >gi|380251444|emb|HE603210.1| Chlamydia trachomatis A/5291 plasmid pA5291 complete sequence >gi|380251453|emb|HE603211.1| Chlamydia trachomatis A/7249 plasmid pA7249 complete sequence >gi|383081617|emb|HE603209.2| Chlamydia trachomatis A/363 plasmid pA363 complete sequence\n",
      "length: 7502\n",
      "e value: 4.20154e-50\n",
      "GGTAAGTCCTCTAGTACAAACACCCCCAATATTGTGATATAATTAAAATTATATTCATATTCTGTTGCCAGAAAA...\n",
      "Score 230 (208 bits), expectation 4.2e-50, alignment length 120\n",
      "Query:       1 GGTAAGTCCTCTAGTACAAACACCCCCAATATTGTGATATAATTA...GTC 120\n",
      "               ||||||||||||||||||||||||| |||||||||||||||||||...|||\n",
      "Sbjct:    1046 GGTAAGTCCTCTAGTACAAACACCCACAATATTGTGATATAATTA...GTC 1165\n",
      "****Alignment****\n",
      "sequence: gi|1034275911|gb|CP015305.1| Chlamydia trachomatis strain E-DK-20 plasmid pCtrEDK20, complete sequence\n",
      "length: 7502\n",
      "e value: 1.78654e-48\n",
      "GGTAAGTCCTCTAGTACAAACACCCCCAATATTGTGATATAATTAAAATTATATTCATATTCTGTTGCCAGAAAA...\n",
      "Score 225 (204 bits), expectation 1.8e-48, alignment length 120\n",
      "Query:       1 GGTAAGTCCTCTAGTACAAACACCCCCAATATTGTGATATAATTA...GTC 120\n",
      "               ||||| ||||||||||||||||||| |||||||||||||||||||...|||\n",
      "Sbjct:    1046 GGTAATTCCTCTAGTACAAACACCCACAATATTGTGATATAATTA...GTC 1165\n",
      "****Alignment****\n",
      "sequence: gi|1034274076|gb|CP015301.1| Chlamydia trachomatis strain E-8873 plasmid pCtrE8873, complete sequence\n",
      "length: 7493\n",
      "e value: 1.78654e-48\n",
      "GGTAAGTCCTCTAGTACAAACACCCCCAATATTGTGATATAATTAAAATTATATTCATATTCTGTTGCCAGAAAA...\n",
      "Score 225 (204 bits), expectation 1.8e-48, alignment length 120\n",
      "Query:       1 GGTAAGTCCTCTAGTACAAACACCCCCAATATTGTGATATAATTA...GTC 120\n",
      "               ||||| ||||||||||||||||||| |||||||||||||||||||...|||\n",
      "Sbjct:    1046 GGTAATTCCTCTAGTACAAACACCCACAATATTGTGATATAATTA...GTC 1165\n",
      "****Alignment****\n",
      "sequence: gi|565679406|gb|CP006946.1| Chlamydia trachomatis C/TW-3 plasmid unnamed, complete sequence\n",
      "length: 7501\n",
      "e value: 1.78654e-48\n",
      "GGTAAGTCCTCTAGTACAAACACCCCCAATATTGTGATATAATTAAAATTATATTCATATTCTGTTGCCAGAAAA...\n",
      "Score 225 (204 bits), expectation 1.8e-48, alignment length 120\n",
      "Query:       1 GGTAAGTCCTCTAGTACAAACACCCCCAATATTGTGATATAATTA...GTC 120\n",
      "               |||||||||||||||||||||| || |||||||||||||||||||...|||\n",
      "Sbjct:    1046 GGTAAGTCCTCTAGTACAAACATCCACAATATTGTGATATAATTA...GTC 1165\n",
      "****Alignment****\n",
      "sequence: gi|380252735|emb|HE603236.1| Chlamydia trachomatis Ia/SotonIa1 plasmid pSotonIa1 complete sequence >gi|380252744|emb|HE603237.1| Chlamydia trachomatis Ia/SotonIa3 plasmid pSotonIa3 complete sequence\n",
      "length: 7500\n",
      "e value: 1.78654e-48\n",
      "GGTAAGTCCTCTAGTACAAACACCCCCAATATTGTGATATAATTAAAATTATATTCATATTCTGTTGCCAGAAAA...\n",
      "Score 225 (204 bits), expectation 1.8e-48, alignment length 120\n",
      "Query:       1 GGTAAGTCCTCTAGTACAAACACCCCCAATATTGTGATATAATTA...GTC 120\n",
      "               ||||||||||||||||||||||||| |||||||||||||||||||...|||\n",
      "Sbjct:    1046 GGTAAGTCCTCTAGTACAAACACCCACAATATTGTGATATAATTA...GTC 1165\n",
      "****Alignment****\n",
      "sequence: gi|228007439|emb|FM865442.1| Chlamydia trachomatis plasmid pSW5, strain Sweden5, serovar F\n",
      "length: 7471\n",
      "e value: 1.78654e-48\n",
      "GGTAAGTCCTCTAGTACAAACACCCCCAATATTGTGATATAATTAAAATTATATTCATATTCTGTTGCCAGAAAA...\n",
      "Score 225 (204 bits), expectation 1.8e-48, alignment length 120\n",
      "Query:       1 GGTAAGTCCTCTAGTACAAACACCCCCAATATTGTGATATAATTA...GTC 120\n",
      "               ||||| ||||||||||||||||||| |||||||||||||||||||...|||\n",
      "Sbjct:    1024 GGTAATTCCTCTAGTACAAACACCCACAATATTGTGATATAATTA...GTC 1143\n",
      "****Alignment****\n",
      "sequence: gi|228007430|emb|FM865441.1| Chlamydia trachomatis plasmid pSW4, strain Sweden4, serovar F >gi|380252672|emb|HE603229.1| Chlamydia trachomatis D/SotonD1 plasmid pSotonD1 complete sequence >gi|380252717|emb|HE603234.1| Chlamydia trachomatis F/SotonF3 plasmid pSotonF3 complete sequence >gi|1034276824|gb|CP015307.1| Chlamydia trachomatis strain F-6068 plasmid pCtrF6068, complete sequence\n",
      "length: 7493\n",
      "e value: 1.78654e-48\n",
      "GGTAAGTCCTCTAGTACAAACACCCCCAATATTGTGATATAATTAAAATTATATTCATATTCTGTTGCCAGAAAA...\n",
      "Score 225 (204 bits), expectation 1.8e-48, alignment length 120\n",
      "Query:       1 GGTAAGTCCTCTAGTACAAACACCCCCAATATTGTGATATAATTA...GTC 120\n",
      "               ||||| ||||||||||||||||||| |||||||||||||||||||...|||\n",
      "Sbjct:    1046 GGTAATTCCTCTAGTACAAACACCCACAATATTGTGATATAATTA...GTC 1165\n",
      "****Alignment****\n",
      "sequence: gi|144462|gb|J03321.1|CH1L1CG Chlamydia trachomatis plasmid pCHL1, complete sequence\n",
      "length: 7502\n",
      "e value: 1.78654e-48\n",
      "GGTAAGTCCTCTAGTACAAACACCCCCAATATTGTGATATAATTAAAATTATATTCATATTCTGTTGCCAGAAAA...\n",
      "Score 225 (204 bits), expectation 1.8e-48, alignment length 120\n",
      "Query:       1 GGTAAGTCCTCTAGTACAAACACCCCCAATATTGTGATATAATTA...GTC 120\n",
      "               ||||| ||||||||||||||||||| |||||||||||||||||||...|||\n",
      "Sbjct:     401 GGTAATTCCTCTAGTACAAACACCCACAATATTGTGATATAATTA...GTC 520\n",
      "****Alignment****\n",
      "sequence: gi|1067108145|gb|CP016427.1| Chlamydia trachomatis strain SB013321 plasmid unnamed1, complete sequence\n",
      "length: 7497\n",
      "e value: 2.17645e-47\n",
      "GGTAAGTCCTCTAGTACAAACACCCCCAATATTGTGATATAATTAAAATTATATTCATATTCTGTTGCCAGAAAA...\n",
      "Score 221 (200 bits), expectation 2.2e-47, alignment length 120\n",
      "Query:       1 GGTAAGTCCTCTAGTACAAACACCCCCAATATTGTGATATAATTA...GTC 120\n",
      "               |||||||||||||||||||||||||  |  |||||||||||||||...|||\n",
      "Sbjct:    1046 GGTAAGTCCTCTAGTACAAACACCCAYAWWATTGTGATATAATTA...GTC 1165\n",
      "****Alignment****\n",
      "sequence: gi|144607|gb|M19487.1|PLMORF Chlamydia trachomatis plasmid pCTT1 unknown proteins (ORF2-7) and dnaB-like protein genes, complete cds, and unknown protein (ORF1) and replication protein genes, partial cds\n",
      "length: 7496\n",
      "e value: 2.17645e-47\n",
      "GGTAAGTCCTCTAGTACAAACACCCCCAATATTGTGATATAATTAAAATTATATTCATATTCTGTTGCCAGAAAA...\n",
      "Score 221 (200 bits), expectation 2.2e-47, alignment length 120\n",
      "Query:       1 GGTAAGTCCTCTAGTACAAACACCCCCAATATTGTGATATAATTA...GTC 120\n",
      "               ||||||||||||||||||||||||| |||||||||||||||||||...|||\n",
      "Sbjct:     400 GGTAAGTCCTCTAGTACAAACACCCACAATATTGTGATATAATTA...GTC 518\n",
      "****Alignment****\n",
      "sequence: gi|1034271323|gb|CP015295.1| Chlamydia trachomatis strain E-103 plasmid CtrE-103, complete sequence\n",
      "length: 7502\n",
      "e value: 2.17645e-47\n",
      "GGTAAGTCCTCTAGTACAAACACCCCCAATATTGTGATATAATTAAAATTATATTCATATTCTGTTGCCAGAAAA...\n",
      "Score 220 (199 bits), expectation 2.2e-47, alignment length 120\n",
      "Query:       1 GGTAAGTCCTCTAGTACAAACACCCCCAATATTGTGATATAATTA...GTC 120\n",
      "               ||||| ||||||||||||||||||| |||||||||||||||||||...|||\n",
      "Sbjct:    1046 GGTAATTCCTCTAGTACAAACACCCACAATATTGTGATATAATTA...GTC 1165\n",
      "****Alignment****\n",
      "sequence: gi|899747183|gb|CP010570.1| Chlamydia trachomatis strain F/CS847/08 plasmid, complete sequence\n",
      "length: 7493\n",
      "e value: 2.17645e-47\n",
      "GGTAAGTCCTCTAGTACAAACACCCCCAATATTGTGATATAATTAAAATTATATTCATATTCTGTTGCCAGAAAA...\n",
      "Score 220 (199 bits), expectation 2.2e-47, alignment length 120\n",
      "Query:       1 GGTAAGTCCTCTAGTACAAACACCCCCAATATTGTGATATAATTA...GTC 120\n",
      "               ||||| ||||||||||||||||||| |||||||||||||||||||...|||\n",
      "Sbjct:    1046 GGTAATTCCTCTAGTACAAACACCCACAATATTGTGATATAATTA...GTC 1165\n",
      "****Alignment****\n",
      "sequence: gi|899746270|gb|CP010568.1| Chlamydia trachomatis strain E/CS1025/11 plasmid, complete sequence\n",
      "length: 7502\n",
      "e value: 2.17645e-47\n",
      "GGTAAGTCCTCTAGTACAAACACCCCCAATATTGTGATATAATTAAAATTATATTCATATTCTGTTGCCAGAAAA...\n",
      "Score 220 (199 bits), expectation 2.2e-47, alignment length 120\n",
      "Query:       1 GGTAAGTCCTCTAGTACAAACACCCCCAATATTGTGATATAATTA...GTC 120\n",
      "               ||||| ||||||||||||||||||| |||||||||||||||||||...|||\n",
      "Sbjct:    1046 GGTAATTCCTCTAGTACAAACACCCACAATATTGTGATATAATTA...GTC 1165\n",
      "****Alignment****\n",
      "sequence: gi|568246878|gb|KF724860.1| Transformation vector pGFPBSDZ-SW2, complete sequence\n",
      "length: 10764\n",
      "e value: 2.17645e-47\n",
      "GGTAAGTCCTCTAGTACAAACACCCCCAATATTGTGATATAATTAAAATTATATTCATATTCTGTTGCCAGAAAA...\n",
      "Score 220 (199 bits), expectation 2.2e-47, alignment length 120\n",
      "Query:       1 GGTAAGTCCTCTAGTACAAACACCCCCAATATTGTGATATAATTA...GTC 120\n",
      "               ||||| ||||||||||||||||||| |||||||||||||||||||...|||\n",
      "Sbjct:    4264 GGTAATTCCTCTAGTACAAACACCCACAATATTGTGATATAATTA...GTC 4383\n",
      "****Alignment****\n",
      "sequence: gi|380252708|emb|HE603233.1| Chlamydia trachomatis E/SotonE8 plasmid pSotonE8 complete sequence >gi|1034274998|gb|CP015303.1| Chlamydia trachomatis strain E-32931 plasmid pCtrE32931, complete sequence\n",
      "length: 7502\n",
      "e value: 2.17645e-47\n",
      "GGTAAGTCCTCTAGTACAAACACCCCCAATATTGTGATATAATTAAAATTATATTCATATTCTGTTGCCAGAAAA...\n",
      "Score 220 (199 bits), expectation 2.2e-47, alignment length 120\n",
      "Query:       1 GGTAAGTCCTCTAGTACAAACACCCCCAATATTGTGATATAATTA...GTC 120\n",
      "               ||||| ||||||||||||||||||| |||||||||||||||||||...|||\n",
      "Sbjct:    1046 GGTAATTCCTCTAGTACAAACACCCACAATATTGTGATATAATTA...GTC 1165\n",
      "****Alignment****\n",
      "sequence: gi|380252699|emb|HE603232.1| Chlamydia trachomatis E/SotonE4 plasmid pSotonE4 complete sequence\n",
      "length: 7502\n",
      "e value: 2.17645e-47\n",
      "GGTAAGTCCTCTAGTACAAACACCCCCAATATTGTGATATAATTAAAATTATATTCATATTCTGTTGCCAGAAAA...\n",
      "Score 220 (199 bits), expectation 2.2e-47, alignment length 120\n",
      "Query:       1 GGTAAGTCCTCTAGTACAAACACCCCCAATATTGTGATATAATTA...GTC 120\n",
      "               ||||| ||||||||||||||||||| |||||||||||||||||||...|||\n",
      "Sbjct:    1046 GGTAATTCCTCTAGTACAAACACCCACAATATTGTGATATAATTA...GTC 1165\n",
      "****Alignment****\n",
      "sequence: gi|228007421|emb|FM865440.1| Chlamydia trachomatis plasmid pSW3, strain Sweden3, serovar E >gi|380251462|emb|HE603212.1| Chlamydia trachomatis E/Bour plasmid pBour complete sequence >gi|464093961|emb|HF562299.1| Chlamydia trachomatis IU824 plasmid pIU824, complete sequence >gi|464094928|emb|HF562301.1| Chlamydia trachomatis IU888 plasmid pIU888, complete sequence >gi|478751006|gb|CP003970.1| Chlamydia trachomatis strain E/CS88(i) plasmid pE/CS88(i), complete sequence >gi|478751015|gb|CP003971.1| Chlamydia trachomatis strain E/CS88(f) plasmid pE/CS88(f), complete sequence >gi|1034272238|gb|CP015297.1| Chlamydia trachomatis strain E-160 plasmid pCtrE160, complete sequence >gi|1034273152|gb|CP015299.1| Chlamydia trachomatis strain E-547 plasmid pCtrE547, complete sequence\n",
      "length: 7502\n",
      "e value: 2.17645e-47\n",
      "GGTAAGTCCTCTAGTACAAACACCCCCAATATTGTGATATAATTAAAATTATATTCATATTCTGTTGCCAGAAAA...\n",
      "Score 220 (199 bits), expectation 2.2e-47, alignment length 120\n",
      "Query:       1 GGTAAGTCCTCTAGTACAAACACCCCCAATATTGTGATATAATTA...GTC 120\n",
      "               ||||| ||||||||||||||||||| |||||||||||||||||||...|||\n",
      "Sbjct:    1046 GGTAATTCCTCTAGTACAAACACCCACAATATTGTGATATAATTA...GTC 1165\n",
      "****Alignment****\n",
      "sequence: gi|228007412|emb|FM865439.1| Chlamydia trachomatis plasmid pSW2, strain Sweden2, serovar E\n",
      "length: 7169\n",
      "e value: 2.17645e-47\n",
      "GGTAAGTCCTCTAGTACAAACACCCCCAATATTGTGATATAATTAAAATTATATTCATATTCTGTTGCCAGAAAA...\n",
      "Score 220 (199 bits), expectation 2.2e-47, alignment length 120\n",
      "Query:       1 GGTAAGTCCTCTAGTACAAACACCCCCAATATTGTGATATAATTA...GTC 120\n",
      "               ||||| ||||||||||||||||||| |||||||||||||||||||...|||\n",
      "Sbjct:     669 GGTAATTCCTCTAGTACAAACACCCACAATATTGTGATATAATTA...GTC 788\n",
      "****Alignment****\n",
      "sequence: gi|119352261|gb|EF121757.1| Chlamydia trachomatis plasmid pLGV440 sequence flanking a deletion\n",
      "length: 607\n",
      "e value: 2.17645e-47\n",
      "GGTAAGTCCTCTAGTACAAACACCCCCAATATTGTGATATAATTAAAATTATATTCATATTCTGTTGCCAGAAAA...\n",
      "Score 220 (199 bits), expectation 2.2e-47, alignment length 120\n",
      "Query:       1 GGTAAGTCCTCTAGTACAAACACCCCCAATATTGTGATATAATTA...GTC 120\n",
      "               ||||| ||||||||||||||||||| |||||||||||||||||||...|||\n",
      "Sbjct:     257 GGTAATTCCTCTAGTACAAACACCCACAATATTGTGATATAATTA...GTC 376\n",
      "****Alignment****\n",
      "sequence: gi|575868419|gb|KF790909.1| Cloning vector pBOMB4R-MCI, complete sequence\n",
      "length: 10768\n",
      "e value: 6.66371e-35\n",
      "CCAATATTGTGATATAATTAAAATTATATTCATATTCTGTTGCCAGAAAAAACACTTTTAGGCTATATTAGAGCC...\n",
      "Score 175 (159 bits), expectation 6.7e-35, alignment length 95\n",
      "Query:      26 CCAATATTGTGATATAATTAAAATTATATTCATATTCTGTTGCCA...GTC 120\n",
      "               ||| ||  |||||||||||||||||||||||||||||||||||||...|||\n",
      "Sbjct:    7560 CCATTAAGGTGATATAATTAAAATTATATTCATATTCTGTTGCCA...GTC 7466\n",
      "****Alignment****\n",
      "sequence: gi|575868419|gb|KF790909.1| Cloning vector pBOMB4R-MCI, complete sequence\n",
      "length: 10768\n",
      "e value: 4.20526e-31\n",
      "GGTAAGTCCTCTAGTACAAACACCCCCAATATTGTGATATAATTAAAATTATATTCATATTCTGTTGCCAGAAAA...\n",
      "Score 160 (145 bits), expectation 4.2e-31, alignment length 80\n",
      "Query:       1 GGTAAGTCCTCTAGTACAAACACCCCCAATATTGTGATATAATTA...CAC 80\n",
      "               |||||||||||||||||||||||||||||||||||||||||||||...|||\n",
      "Sbjct:      81 GGTAAGTCCTCTAGTACAAACACCCCCAATATTGTGATATAATTA...CAC 2\n",
      "****Alignment****\n",
      "sequence: gi|575868417|gb|KF790908.1| Cloning vector pBOMB4R, complete sequence\n",
      "length: 10755\n",
      "e value: 6.66371e-35\n",
      "CCAATATTGTGATATAATTAAAATTATATTCATATTCTGTTGCCAGAAAAAACACTTTTAGGCTATATTAGAGCC...\n",
      "Score 175 (159 bits), expectation 6.7e-35, alignment length 95\n",
      "Query:      26 CCAATATTGTGATATAATTAAAATTATATTCATATTCTGTTGCCA...GTC 120\n",
      "               ||| ||  |||||||||||||||||||||||||||||||||||||...|||\n",
      "Sbjct:    7560 CCATTAAGGTGATATAATTAAAATTATATTCATATTCTGTTGCCA...GTC 7466\n",
      "****Alignment****\n",
      "sequence: gi|575868417|gb|KF790908.1| Cloning vector pBOMB4R, complete sequence\n",
      "length: 10755\n",
      "e value: 4.20526e-31\n",
      "GGTAAGTCCTCTAGTACAAACACCCCCAATATTGTGATATAATTAAAATTATATTCATATTCTGTTGCCAGAAAA...\n",
      "Score 160 (145 bits), expectation 4.2e-31, alignment length 80\n",
      "Query:       1 GGTAAGTCCTCTAGTACAAACACCCCCAATATTGTGATATAATTA...CAC 80\n",
      "               |||||||||||||||||||||||||||||||||||||||||||||...|||\n",
      "Sbjct:      81 GGTAAGTCCTCTAGTACAAACACCCCCAATATTGTGATATAATTA...CAC 2\n",
      "****Alignment****\n",
      "sequence: gi|1834305694|gb|MT241513.1| Cloning vector pREF100, complete sequence\n",
      "length: 11748\n",
      "e value: 6.66371e-35\n",
      "GTGATATAATTAAAATTATATTCATATTCTGTTGCCAGAAAAAACACTTTTAGGCTATATTAGAGCCATCTTCTT...\n",
      "Score 174 (158 bits), expectation 6.7e-35, alignment length 87\n",
      "Query:      34 GTGATATAATTAAAATTATATTCATATTCTGTTGCCAGAAAAAAC...GTC 120\n",
      "               |||||||||||||||||||||||||||||||||||||||||||||...|||\n",
      "Sbjct:    7554 GTGATATAATTAAAATTATATTCATATTCTGTTGCCAGAAAAAAC...GTC 7468\n",
      "****Alignment****\n",
      "sequence: gi|1834305694|gb|MT241513.1| Cloning vector pREF100, complete sequence\n",
      "length: 11748\n",
      "e value: 8.11806e-34\n",
      "GGTAAGTCCTCTAGTACAAACACCCCCAATATTGTGATATAATTAAAATTATATTCATATTCTGTTGCCAGAAAA...\n",
      "Score 171 (155 bits), expectation 8.1e-34, alignment length 88\n",
      "Query:       1 GGTAAGTCCTCTAGTACAAACACCCCCAATATTGTGATATAATTA...GGC 88\n",
      "               |||||||||||||||||||||||||||||||||||||||||||||...|||\n",
      "Sbjct:      88 GGTAAGTCCTCTAGTACAAACACCCCCAATATTGTGATATAATTA...GGC 1\n",
      "****Alignment****\n",
      "sequence: gi|575868421|gb|KF790910.1| Cloning vector pBOMB4-Tet-mCherry, complete sequence\n",
      "length: 12003\n",
      "e value: 6.66371e-35\n",
      "GTGATATAATTAAAATTATATTCATATTCTGTTGCCAGAAAAAACACTTTTAGGCTATATTAGAGCCATCTTCTT...\n",
      "Score 174 (158 bits), expectation 6.7e-35, alignment length 87\n",
      "Query:      34 GTGATATAATTAAAATTATATTCATATTCTGTTGCCAGAAAAAAC...GTC 120\n",
      "               |||||||||||||||||||||||||||||||||||||||||||||...|||\n",
      "Sbjct:    7554 GTGATATAATTAAAATTATATTCATATTCTGTTGCCAGAAAAAAC...GTC 7468\n",
      "****Alignment****\n",
      "sequence: gi|575868421|gb|KF790910.1| Cloning vector pBOMB4-Tet-mCherry, complete sequence\n",
      "length: 12003\n",
      "e value: 8.11806e-34\n",
      "GGTAAGTCCTCTAGTACAAACACCCCCAATATTGTGATATAATTAAAATTATATTCATATTCTGTTGCCAGAAAA...\n",
      "Score 171 (155 bits), expectation 8.1e-34, alignment length 88\n",
      "Query:       1 GGTAAGTCCTCTAGTACAAACACCCCCAATATTGTGATATAATTA...GGC 88\n",
      "               |||||||||||||||||||||||||||||||||||||||||||||...|||\n",
      "Sbjct:      88 GGTAAGTCCTCTAGTACAAACACCCCCAATATTGTGATATAATTA...GGC 1\n"
     ]
    }
   ],
   "source": [
    "E_VALUE_THRESH = 1e-20\n",
    "for record in NCBIXML.parse(open(\"results.xml\")):\n",
    "    if record.alignments:\n",
    "        print(\"\\n\")\n",
    "        for align in record.alignments:\n",
    "            for hsp in align.hsps:\n",
    "                if hsp.expect < E_VALUE_THRESH:\n",
    "                    print(\"****Alignment****\")\n",
    "                    print(\"sequence:\", align.title)\n",
    "                    print(\"length:\", align.length)\n",
    "                    print(\"e value:\", hsp.expect)\n",
    "                    print(hsp.query[0:75] + \"...\")\n",
    "                    print(hsp)"
   ]
  },
  {
   "cell_type": "code",
   "execution_count": 26,
   "metadata": {},
   "outputs": [
    {
     "name": "stdout",
     "output_type": "stream",
     "text": [
      "Query: No\n",
      "       definition line\n",
      "  Hit: gi|380252486|emb|HE603228.1| (7415)\n",
      "       Chlamydia trachomatis L3/404/LN plasmid pL3404 complete sequence\n",
      " HSPs: ----  --------  ---------  ------  ---------------  ---------------------\n",
      "          #   E-value  Bit score    Span      Query range              Hit range\n",
      "       ----  --------  ---------  ------  ---------------  ---------------------\n",
      "          0   8.1e-53     217.69     120          [0:120]             [960:1080]\n"
     ]
    }
   ],
   "source": [
    "from Bio import SearchIO\n",
    "blast_qresult = SearchIO.read(\"results.xml\", \"blast-xml\")\n",
    "blast_hit = blast_qresult[4] \n",
    "print(blast_hit)"
   ]
  },
  {
   "cell_type": "markdown",
   "metadata": {},
   "source": [
    "## Biopython –Entrez Database\n",
    "\n",
    "Entrez es un sistema de búsqueda en línea proporcionado por NCBI. Proporciona acceso a casi todas las bases de datos de biología molecular conocidas con una consulta global integrada que admite operadores booleanos y búsqueda de campo. Devuelve resultados de todas las bases de datos con información como el número de visitas de cada base de datos, registros con enlaces a la base de datos de origen, etc.\n",
    "\n",
    "Algunas de las bases de datos populares a las que se puede acceder a través de Entrez se enumeran a continuación:\n",
    "\n",
    "Pubmed\n",
    "Pubmed central\n",
    "Nucleótido (base de datos de secuencias de GenBank)\n",
    "Proteína (base de datos de secuencias)\n",
    "Genoma (base de datos de genoma completo)\n",
    "Estructura (estructura macromolecular tridimensional)\n",
    "Taxonomía ( Organisms in GenBank)\n",
    "SNP (polimorfismo de un solo nucleótido)\n",
    "UniGene (grupos de secuencias de transcripción orientados a genes)\n",
    "CDD (base de datos de dominios de proteínas conservadas)\n",
    "Dominios 3D (dominios de la estructura de Entrez)\n",
    "\n",
    "Además de las bases de datos anteriores, Entrez proporciona muchas más bases de datos para realizar la búsqueda de campo. Biopython proporciona un módulo específico de Entrez, Bio.Entrez para acceder a la base de datos de Entrez. Aprendamos cómo acceder a Entrez usando Biopython en este capítulo:\n",
    "\n",
    "### Pasos de conexión a la base de datos\n",
    "\n",
    "Para agregar las características de Entrez, importe el siguiente módulo:\n",
    "\n"
   ]
  },
  {
   "cell_type": "code",
   "execution_count": 34,
   "metadata": {},
   "outputs": [],
   "source": [
    "from Bio import Entrez"
   ]
  },
  {
   "cell_type": "markdown",
   "metadata": {},
   "source": [
    "A continuación, configure su correo electrónico para identificar quién está conectado con el código que se proporciona a continuación:"
   ]
  },
  {
   "cell_type": "code",
   "execution_count": 35,
   "metadata": {},
   "outputs": [],
   "source": [
    "Entrez.email = 'juvenal.yosa@gmail.com'"
   ]
  },
  {
   "cell_type": "markdown",
   "metadata": {},
   "source": [
    "Luego, configure el parámetro de la herramienta Entrez y, por defecto, es Biopython."
   ]
  },
  {
   "cell_type": "markdown",
   "metadata": {},
   "source": [
    "Ahora, llame a la función einfo para encontrar los recuentos de términos de índice, la última actualización y los enlaces disponibles para cada base de datos como se define a continuación:Entrez.tool = 'Demoscript'Ahora, llame a la función einfo para encontrar los recuentos de términos de índice, la última actualización y los enlaces disponibles para cada base de datos como se define a continuación:"
   ]
  },
  {
   "cell_type": "code",
   "execution_count": 37,
   "metadata": {},
   "outputs": [],
   "source": [
    "info = Entrez.einfo()"
   ]
  },
  {
   "cell_type": "markdown",
   "metadata": {},
   "source": [
    "El método einfo devuelve un objeto, que proporciona acceso a la información a través de su método de lectura como se muestra a continuación."
   ]
  },
  {
   "cell_type": "code",
   "execution_count": 38,
   "metadata": {},
   "outputs": [
    {
     "name": "stdout",
     "output_type": "stream",
     "text": [
      "b'<?xml version=\"1.0\" encoding=\"UTF-8\" ?>\\n<!DOCTYPE eInfoResult PUBLIC \"-//NLM//DTD einfo 20190110//EN\" \"https://eutils.ncbi.nlm.nih.gov/eutils/dtd/20190110/einfo.dtd\">\\n<eInfoResult>\\n<DbList>\\n\\n\\t<DbName>pubmed</DbName>\\n\\t<DbName>protein</DbName>\\n\\t<DbName>nuccore</DbName>\\n\\t<DbName>ipg</DbName>\\n\\t<DbName>nucleotide</DbName>\\n\\t<DbName>structure</DbName>\\n\\t<DbName>sparcle</DbName>\\n\\t<DbName>genome</DbName>\\n\\t<DbName>annotinfo</DbName>\\n\\t<DbName>assembly</DbName>\\n\\t<DbName>bioproject</DbName>\\n\\t<DbName>biosample</DbName>\\n\\t<DbName>blastdbinfo</DbName>\\n\\t<DbName>books</DbName>\\n\\t<DbName>cdd</DbName>\\n\\t<DbName>clinvar</DbName>\\n\\t<DbName>gap</DbName>\\n\\t<DbName>gapplus</DbName>\\n\\t<DbName>grasp</DbName>\\n\\t<DbName>dbvar</DbName>\\n\\t<DbName>gene</DbName>\\n\\t<DbName>gds</DbName>\\n\\t<DbName>geoprofiles</DbName>\\n\\t<DbName>homologene</DbName>\\n\\t<DbName>medgen</DbName>\\n\\t<DbName>mesh</DbName>\\n\\t<DbName>ncbisearch</DbName>\\n\\t<DbName>nlmcatalog</DbName>\\n\\t<DbName>omim</DbName>\\n\\t<DbName>orgtrack</DbName>\\n\\t<DbName>pmc</DbName>\\n\\t<DbName>popset</DbName>\\n\\t<DbName>proteinclusters</DbName>\\n\\t<DbName>pcassay</DbName>\\n\\t<DbName>biosystems</DbName>\\n\\t<DbName>pccompound</DbName>\\n\\t<DbName>pcsubstance</DbName>\\n\\t<DbName>seqannot</DbName>\\n\\t<DbName>snp</DbName>\\n\\t<DbName>sra</DbName>\\n\\t<DbName>taxonomy</DbName>\\n\\t<DbName>biocollections</DbName>\\n\\t<DbName>gtr</DbName>\\n</DbList>\\n\\n</eInfoResult>\\n'\n"
     ]
    }
   ],
   "source": [
    "data = info.read()\n",
    "print(data)"
   ]
  },
  {
   "cell_type": "markdown",
   "metadata": {},
   "source": [
    "Los datos están en formato XML, y para obtener los datos como un objeto python, use Entrez.readmethod tan pronto como se invoque el método Entrez.einfo ():"
   ]
  },
  {
   "cell_type": "code",
   "execution_count": 39,
   "metadata": {},
   "outputs": [],
   "source": [
    "info = Entrez.einfo()\n",
    "record = Entrez.read(info)"
   ]
  },
  {
   "cell_type": "markdown",
   "metadata": {},
   "source": [
    "Aquí, registro es un diccionario que tiene una clave, DbListas que se muestra a continuación:"
   ]
  },
  {
   "cell_type": "code",
   "execution_count": 40,
   "metadata": {},
   "outputs": [
    {
     "data": {
      "text/plain": [
       "dict_keys(['DbList'])"
      ]
     },
     "execution_count": 40,
     "metadata": {},
     "output_type": "execute_result"
    }
   ],
   "source": [
    "record.keys()"
   ]
  },
  {
   "cell_type": "markdown",
   "metadata": {},
   "source": [
    "Acceder a la clave DbList devuelve la lista de nombres de bases de datos que se muestra a continuación:"
   ]
  },
  {
   "cell_type": "code",
   "execution_count": 42,
   "metadata": {},
   "outputs": [
    {
     "data": {
      "text/plain": [
       "['pubmed', 'protein', 'nuccore', 'ipg', 'nucleotide', 'structure', 'sparcle', 'genome', 'annotinfo', 'assembly', 'bioproject', 'biosample', 'blastdbinfo', 'books', 'cdd', 'clinvar', 'gap', 'gapplus', 'grasp', 'dbvar', 'gene', 'gds', 'geoprofiles', 'homologene', 'medgen', 'mesh', 'ncbisearch', 'nlmcatalog', 'omim', 'orgtrack', 'pmc', 'popset', 'proteinclusters', 'pcassay', 'biosystems', 'pccompound', 'pcsubstance', 'seqannot', 'snp', 'sra', 'taxonomy', 'biocollections', 'gtr']"
      ]
     },
     "execution_count": 42,
     "metadata": {},
     "output_type": "execute_result"
    }
   ],
   "source": [
    "record[u'DbList']"
   ]
  },
  {
   "cell_type": "markdown",
   "metadata": {},
   "source": [
    "Básicamente, el módulo Entrez analiza el XML devuelto por el sistema de búsqueda Entrez y lo proporciona como un diccionario y listas de Python.\n",
    "\n",
    "### Base de datos de búsqueda\n",
    "\n",
    "Para buscar en cualquiera de las bases de datos de Entrez, podemos utilizar el módulo Bio.Entrez.esearch (). Se define a continuación:"
   ]
  },
  {
   "cell_type": "code",
   "execution_count": 43,
   "metadata": {},
   "outputs": [
    {
     "name": "stdout",
     "output_type": "stream",
     "text": [
      "{'Count': '1265519', 'RetMax': '20', 'RetStart': '0', 'IdList': ['33086305', '33086103', '33086062', '33086055', '33086041', '33086026', '33086021', '33085828', '33085825', '33085725', '33085710', '33085656', '33085572', '33085550', '33085541', '33085536', '33085517', '33085515', '33085463', '33085143'], 'TranslationSet': [{'From': 'genome', 'To': '\"genome\"[MeSH Terms] OR \"genome\"[All Fields]'}], 'TranslationStack': [{'Term': '\"genome\"[MeSH Terms]', 'Field': 'MeSH Terms', 'Count': '996068', 'Explode': 'Y'}, {'Term': '\"genome\"[All Fields]', 'Field': 'All Fields', 'Count': '503371', 'Explode': 'N'}, 'OR', 'GROUP'], 'QueryTranslation': '\"genome\"[MeSH Terms] OR \"genome\"[All Fields]'}\n"
     ]
    }
   ],
   "source": [
    "info = Entrez.einfo()\n",
    "info = Entrez.esearch(db=\"pubmed\",term=\"genome\")\n",
    "record = Entrez.read(info)\n",
    "print(record)"
   ]
  },
  {
   "cell_type": "markdown",
   "metadata": {},
   "source": [
    "Si asigna una base de datos incorrecta, devuelve:"
   ]
  },
  {
   "cell_type": "code",
   "execution_count": 44,
   "metadata": {},
   "outputs": [
    {
     "name": "stdout",
     "output_type": "stream",
     "text": [
      "{'Count': '4', 'RetMax': '4', 'RetStart': '0', 'IdList': ['121608634', '118520824', '118503324', '118503314'], 'TranslationSet': [], 'TranslationStack': [{'Term': 'books[All Fields]', 'Field': 'All Fields', 'Count': '4', 'Explode': 'N'}, 'GROUP'], 'QueryTranslation': 'books[All Fields]'}\n"
     ]
    }
   ],
   "source": [
    "info = Entrez.esearch(db=\"blastdbinfo\",term=\"books\")\n",
    "record = Entrez.read(info)\n",
    "print(record)"
   ]
  },
  {
   "cell_type": "markdown",
   "metadata": {},
   "source": [
    "Si desea buscar en la base de datos, puede usar Entrez.egquery. Esto es similar a Entrez.esearche, excepto que es suficiente especificar la palabra clave y omitir el parámetro de la base de datos."
   ]
  },
  {
   "cell_type": "code",
   "execution_count": 46,
   "metadata": {},
   "outputs": [
    {
     "name": "stdout",
     "output_type": "stream",
     "text": [
      "pubmed 4182537\n",
      "pmc 1880886\n",
      "mesh 395\n",
      "books 122272\n",
      "pubmedhealth Error\n",
      "omim 3298\n",
      "ncbisearch 266\n",
      "nuccore 10508257\n",
      "nucgss 0\n",
      "nucest 0\n",
      "protein 2992586\n",
      "genome 22\n",
      "structure 14197\n",
      "taxonomy 1\n",
      "snp 0\n",
      "dbvar 22353\n",
      "gene 60793\n",
      "sra 417123\n",
      "biosystems 17066\n",
      "unigene Error\n",
      "cdd 1188\n",
      "clone Error\n",
      "popset 1348\n",
      "geoprofiles 15791203\n",
      "gds 957268\n",
      "homologene 227\n",
      "pccompound 6\n",
      "pcsubstance 14173\n",
      "pcassay 214250\n",
      "nlmcatalog 50951\n",
      "probe 10735\n",
      "gap 35528\n",
      "proteinclusters 19\n",
      "bioproject 29288\n",
      "biosample 1059563\n",
      "biocollections 0\n"
     ]
    }
   ],
   "source": [
    "info = Entrez.egquery(term=\"cancer\")\n",
    "record = Entrez.read(info)\n",
    "for row in record[\"eGQueryResult\"]:\n",
    "    print(row[\"DbName\"], row[\"Count\"])"
   ]
  },
  {
   "cell_type": "markdown",
   "metadata": {},
   "source": [
    "Entrez proporciona un método especial, efetch, para buscar y descargar los detalles completos de un registro de Entrez. Considere el siguiente ejemplo sencillo:\n",
    "\n",
    "### Obtener registros\n",
    "\n",
    "Enterz proporciona un método especial, efetch para buscar y descargar los detalles completos de un registro de Entrez. Considere el siguiente ejemplo sencillo:"
   ]
  },
  {
   "cell_type": "code",
   "execution_count": 51,
   "metadata": {},
   "outputs": [
    {
     "name": "stdout",
     "output_type": "stream",
     "text": [
      "<_io.TextIOWrapper encoding='UTF-8'>\n"
     ]
    }
   ],
   "source": [
    "handle = Entrez.efetch(db=\"nucleotide\", id=\"EU490707.1\", rettype=\"fasta\")\n",
    "print(handle)"
   ]
  },
  {
   "cell_type": "markdown",
   "metadata": {},
   "source": [
    "Ahora, podemos simplemente leer los registros usando el objeto SeqIO:"
   ]
  },
  {
   "cell_type": "code",
   "execution_count": 52,
   "metadata": {},
   "outputs": [
    {
     "data": {
      "text/plain": [
       "SeqRecord(seq=Seq('ATTTTTTACGAACCTGTGGAAATTTTTGGTTATGACAATAAATCTAGTTTAGTA...GAA'), id='EU490707.1', name='EU490707.1', description='EU490707.1 Selenipedium aequinoctiale maturase K (matK) gene, partial cds; chloroplast', dbxrefs=[])"
      ]
     },
     "execution_count": 52,
     "metadata": {},
     "output_type": "execute_result"
    }
   ],
   "source": [
    "record = SeqIO.read( handle, \"fasta\" )\n",
    "record"
   ]
  },
  {
   "cell_type": "markdown",
   "metadata": {},
   "source": [
    "Más ejemplos"
   ]
  },
  {
   "cell_type": "code",
   "execution_count": 53,
   "metadata": {},
   "outputs": [
    {
     "name": "stdout",
     "output_type": "stream",
     "text": [
      "Biopython: freely available Python tools for computational molecular biology and bioinformatics.\n",
      "PDB file parser and structure class implemented in Python.\n"
     ]
    }
   ],
   "source": [
    "handle = Entrez.esummary(db=\"pubmed\", id=\"19304878,14630660\", retmode=\"xml\")\n",
    "records = Entrez.parse(handle)\n",
    "for record in records:\n",
    "    print(record['Title'])"
   ]
  },
  {
   "cell_type": "code",
   "execution_count": 57,
   "metadata": {},
   "outputs": [
    {
     "data": {
      "text/plain": [
       "'28'"
      ]
     },
     "execution_count": 57,
     "metadata": {},
     "output_type": "execute_result"
    }
   ],
   "source": [
    "handle = Entrez.esearch(db=\"pubmed\", term=\"biopython\")\n",
    "result = Entrez.read(handle)\n",
    "handle.close()\n",
    "result[\"Count\"]"
   ]
  },
  {
   "cell_type": "code",
   "execution_count": 58,
   "metadata": {},
   "outputs": [
    {
     "data": {
      "text/plain": [
       "['32044951', '31762715', '31278684', '31069053', '30013827', '29641230', '28011774', '24929426', '24497503', '24267035', '24194598', '23842806', '23157543', '22909249', '22399473', '21666252', '21210977', '20015970', '19811691', '19773334']"
      ]
     },
     "execution_count": 58,
     "metadata": {},
     "output_type": "execute_result"
    }
   ],
   "source": [
    "result[\"IdList\"]"
   ]
  },
  {
   "cell_type": "markdown",
   "metadata": {},
   "source": [
    "También puede utilizar ESearch para buscar en GenBank, la base de datos de secuencias genéticas de los NIH. Aquí haremos una búsqueda rápida del gen matK en las orquídeas Cypripedioideae."
   ]
  },
  {
   "cell_type": "code",
   "execution_count": 59,
   "metadata": {},
   "outputs": [
    {
     "data": {
      "text/plain": [
       "'547'"
      ]
     },
     "execution_count": 59,
     "metadata": {},
     "output_type": "execute_result"
    }
   ],
   "source": [
    "handle = Entrez.esearch(db=\"nucleotide\", term=\"Cypripedioideae[Orgn] AND matK[Gene]\")\n",
    "result = Entrez.read(handle)\n",
    "handle.close()\n",
    "result[\"Count\"]"
   ]
  },
  {
   "cell_type": "code",
   "execution_count": null,
   "metadata": {},
   "outputs": [],
   "source": []
  }
 ],
 "metadata": {
  "kernelspec": {
   "display_name": "Python 3",
   "language": "python",
   "name": "python3"
  },
  "language_info": {
   "codemirror_mode": {
    "name": "ipython",
    "version": 3
   },
   "file_extension": ".py",
   "mimetype": "text/x-python",
   "name": "python",
   "nbconvert_exporter": "python",
   "pygments_lexer": "ipython3",
   "version": "3.7.1"
  }
 },
 "nbformat": 4,
 "nbformat_minor": 4
}
